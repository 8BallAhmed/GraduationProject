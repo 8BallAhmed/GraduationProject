{
 "cells": [
  {
   "cell_type": "code",
   "execution_count": 2,
   "metadata": {},
   "outputs": [],
   "source": [
    "import numpy as np\n",
    "from sklearn.neighbors import LocalOutlierFactor"
   ]
  },
  {
   "cell_type": "code",
   "execution_count": 3,
   "metadata": {},
   "outputs": [
    {
     "name": "stdout",
     "output_type": "stream",
     "text": [
      "{'params': [9, 'cityblock', 1], 'results': array([1])}\n",
      "{'params': [9, 'cityblock', 2], 'results': array([1])}\n",
      "{'params': [9, 'euclidean', 1], 'results': array([1])}\n",
      "{'params': [9, 'euclidean', 2], 'results': array([1])}\n",
      "{'params': [9, 'l1', 1], 'results': array([1])}\n",
      "{'params': [9, 'l1', 2], 'results': array([1])}\n",
      "{'params': [9, 'l2', 1], 'results': array([1])}\n",
      "{'params': [9, 'l2', 2], 'results': array([1])}\n",
      "{'params': [9, 'manhattan', 1], 'results': array([1])}\n",
      "{'params': [9, 'manhattan', 2], 'results': array([1])}\n"
     ]
    }
   ],
   "source": [
    "n_neighbors = list(range(1,10))\n",
    "metric =  ['cityblock', 'euclidean', 'l1', 'l2', 'manhattan']\n",
    "p=[1,2]\n",
    "np.random.seed(42)\n",
    "X = np.array([220, 219, 238, 214, 228, 229, 211, 225, 233, 230]).reshape(-1,1)\n",
    "\n",
    "for i in n_neighbors:\n",
    "    for j in range(len(metric)):\n",
    "        for k in p:\n",
    "            clf = LocalOutlierFactor(n_neighbors=i,metric=metric[j],p=p,novelty=True)\n",
    "            clf.fit(X)\n",
    "            y_pred = clf.predict([[256]])\n",
    "            if(y_pred[0] == 1):\n",
    "                print({'params':[i,metric[j],k],'results':y_pred})"
   ]
  },
  {
   "cell_type": "code",
   "execution_count": null,
   "metadata": {},
   "outputs": [],
   "source": []
  }
 ],
 "metadata": {
  "interpreter": {
   "hash": "62f158b25ab4ca37eb465eece895e7cce9e9c376c7bd999e6d474034570103f4"
  },
  "kernelspec": {
   "display_name": "Python 3.7.11 ('base')",
   "language": "python",
   "name": "python3"
  },
  "language_info": {
   "codemirror_mode": {
    "name": "ipython",
    "version": 3
   },
   "file_extension": ".py",
   "mimetype": "text/x-python",
   "name": "python",
   "nbconvert_exporter": "python",
   "pygments_lexer": "ipython3",
   "version": "3.7.11"
  },
  "orig_nbformat": 4
 },
 "nbformat": 4,
 "nbformat_minor": 2
}
